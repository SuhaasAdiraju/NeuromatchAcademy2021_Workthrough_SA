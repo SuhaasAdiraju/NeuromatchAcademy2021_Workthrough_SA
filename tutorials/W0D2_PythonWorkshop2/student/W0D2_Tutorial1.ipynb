{
  "cells": [
    {
      "cell_type": "markdown",
      "metadata": {
        "id": "view-in-github",
        "colab_type": "text"
      },
      "source": [
        "<a href=\"https://colab.research.google.com/github/SuhaasAdiraju/NeuromatchAcademy2021_Workthrough_SA/blob/main/tutorials/W0D2_PythonWorkshop2/student/W0D2_Tutorial1.ipynb\" target=\"_parent\"><img src=\"https://colab.research.google.com/assets/colab-badge.svg\" alt=\"Open In Colab\"/></a>"
      ]
    },
    {
      "cell_type": "markdown",
      "metadata": {
        "execution": {},
        "id": "-hIau9IFVtSf"
      },
      "source": [
        "# Tutorial 1: LIF Neuron Part II\n",
        "**Week 0, Day 2: Python Workshop 2**\n",
        "\n",
        "**By Neuromatch Academy**\n",
        "\n",
        "__Content creators:__ Marco Brigham and the [CCNSS](https://www.ccnss.org/) team\n",
        "\n",
        "__Content reviewers:__ Michael Waskom, Karolina Stosio, Spiros Chavlis\n",
        "\n",
        "__Production Editor:__ Ella Batty"
      ]
    },
    {
      "cell_type": "markdown",
      "metadata": {
        "execution": {},
        "id": "8RbJH6TtVtSr"
      },
      "source": [
        "<p align='center'><img src='https://github.com/NeuromatchAcademy/widgets/blob/master/sponsors.png?raw=True'/></p>"
      ]
    },
    {
      "cell_type": "markdown",
      "metadata": {
        "execution": {},
        "id": "vWVteqv6VtSu"
      },
      "source": [
        "---\n",
        "## Tutorial objectives\n",
        "We learned basic Python and NumPy concepts in the previous tutorial. These new and efficient coding techniques can be applied repeatedly in tutorials from the NMA course, and elsewhere. \n",
        "\n",
        "In this tutorial, we'll introduce spikes in our LIF neuron and evaluate the refractory period's effect in spiking dynamics!\n"
      ]
    },
    {
      "cell_type": "markdown",
      "metadata": {
        "execution": {},
        "id": "3W7k7Fn6VtSx"
      },
      "source": [
        "---\n",
        "# Setup"
      ]
    },
    {
      "cell_type": "code",
      "execution_count": 1,
      "metadata": {
        "cellView": "both",
        "execution": {},
        "id": "dYzoN0SjVtSz"
      },
      "outputs": [],
      "source": [
        "# Imports\n",
        "\n",
        "import numpy as np\n",
        "import matplotlib.pyplot as plt"
      ]
    },
    {
      "cell_type": "code",
      "execution_count": null,
      "metadata": {
        "cellView": "form",
        "execution": {},
        "id": "4B-WMx0DVtS4"
      },
      "outputs": [],
      "source": [
        "# @title Figure settings\n",
        "import ipywidgets as widgets       # interactive display\n",
        "%config InlineBackend.figure_format = 'retina'\n",
        "plt.style.use(\"https://raw.githubusercontent.com/NeuromatchAcademy/content-creation/main/nma.mplstyle\")"
      ]
    },
    {
      "cell_type": "code",
      "execution_count": null,
      "metadata": {
        "cellView": "form",
        "execution": {},
        "id": "5cIPfwVCVtS7"
      },
      "outputs": [],
      "source": [
        "# @title Helper functions\n",
        "\n",
        "t_max = 150e-3   # second\n",
        "dt = 1e-3        # second\n",
        "tau = 20e-3      # second\n",
        "el = -60e-3      # milivolt\n",
        "vr = -70e-3      # milivolt\n",
        "vth = -50e-3     # milivolt\n",
        "r = 100e6        # ohm\n",
        "i_mean = 25e-11  # ampere\n",
        "\n",
        "\n",
        "def plot_all(t_range, v, raster=None, spikes=None, spikes_mean=None):\n",
        "  \"\"\"\n",
        "  Plots Time evolution for\n",
        "  (1) multiple realizations of membrane potential\n",
        "  (2) spikes\n",
        "  (3) mean spike rate (optional)\n",
        "\n",
        "  Args:\n",
        "    t_range (numpy array of floats)\n",
        "        range of time steps for the plots of shape (time steps)\n",
        "\n",
        "    v (numpy array of floats)\n",
        "        membrane potential values of shape (neurons, time steps)\n",
        "\n",
        "    raster (numpy array of floats)\n",
        "        spike raster of shape (neurons, time steps)\n",
        "\n",
        "    spikes (dictionary of lists)\n",
        "        list with spike times indexed by neuron number\n",
        "\n",
        "    spikes_mean (numpy array of floats)\n",
        "        Mean spike rate for spikes as dictionary\n",
        "\n",
        "  Returns:\n",
        "    Nothing.\n",
        "  \"\"\"\n",
        "\n",
        "  v_mean = np.mean(v, axis=0)\n",
        "  fig_w, fig_h = plt.rcParams['figure.figsize']\n",
        "  plt.figure(figsize=(fig_w, 1.5 * fig_h))\n",
        "\n",
        "  ax1 = plt.subplot(3, 1, 1)\n",
        "  for j in range(n):\n",
        "    plt.scatter(t_range, v[j], color=\"k\", marker=\".\", alpha=0.01)\n",
        "  plt.plot(t_range, v_mean, 'C1', alpha=0.8, linewidth=3)\n",
        "  plt.xticks([])\n",
        "  plt.ylabel(r'$V_m$ (V)')\n",
        "\n",
        "  if raster is not None:\n",
        "    plt.subplot(3, 1, 2)\n",
        "    spikes_mean = np.mean(raster, axis=0)\n",
        "    plt.imshow(raster, cmap='Greys', origin='lower', aspect='auto')\n",
        "\n",
        "  else:\n",
        "    plt.subplot(3, 1, 2, sharex=ax1)\n",
        "    for j in range(n):\n",
        "      times = np.array(spikes[j])\n",
        "      plt.scatter(times, j * np.ones_like(times), color=\"C0\", marker=\".\", alpha=0.2)\n",
        "\n",
        "  plt.xticks([])\n",
        "  plt.ylabel('neuron')\n",
        "\n",
        "  if spikes_mean is not None:\n",
        "    plt.subplot(3, 1, 3, sharex=ax1)\n",
        "    plt.plot(t_range, spikes_mean)\n",
        "    plt.xlabel('time (s)')\n",
        "    plt.ylabel('rate (Hz)')\n",
        "\n",
        "  plt.tight_layout()\n",
        "  plt.show()"
      ]
    },
    {
      "cell_type": "markdown",
      "metadata": {
        "execution": {},
        "id": "ikTT79syVtS_"
      },
      "source": [
        "---\n",
        "# Section 1: Histograms\n"
      ]
    },
    {
      "cell_type": "code",
      "execution_count": null,
      "metadata": {
        "cellView": "form",
        "execution": {},
        "id": "wZgIa-nbVtTA"
      },
      "outputs": [],
      "source": [
        "# @title Video 1: Histograms\n",
        "from ipywidgets import widgets\n",
        "\n",
        "out2 = widgets.Output()\n",
        "with out2:\n",
        "  from IPython.display import IFrame\n",
        "  class BiliVideo(IFrame):\n",
        "      def __init__(self, id, page=1, width=400, height=300, **kwargs):\n",
        "          self.id=id\n",
        "          src = 'https://player.bilibili.com/player.html?bvid={0}&page={1}'.format(id, page)\n",
        "          super(BiliVideo, self).__init__(src, width, height, **kwargs)\n",
        "\n",
        "  video = BiliVideo(id=\"BV1GC4y1h7Ex\", width=854, height=480, fs=1)\n",
        "  print('Video available at https://www.bilibili.com/video/{0}'.format(video.id))\n",
        "  display(video)\n",
        "\n",
        "out1 = widgets.Output()\n",
        "with out1:\n",
        "  from IPython.display import YouTubeVideo\n",
        "  video = YouTubeVideo(id=\"J24tne-IwvY\", width=854, height=480, fs=1, rel=0)\n",
        "  print('Video available at https://youtube.com/watch?v=' + video.id)\n",
        "  display(video)\n",
        "\n",
        "out = widgets.Tab([out1, out2])\n",
        "out.set_title(0, 'Youtube')\n",
        "out.set_title(1, 'Bilibili')\n",
        "\n",
        "display(out)"
      ]
    },
    {
      "cell_type": "markdown",
      "metadata": {
        "execution": {},
        "id": "x7jcfXJPVtTC"
      },
      "source": [
        "<figure>\n",
        "<img src=\"https://raw.githubusercontent.com/NeuromatchAcademy/precourse/main/tutorials/W0D2_PythonWorkshop2/static/histogram_statistics.png\">\n",
        "</figure>\n",
        "\n",
        "<br>\n",
        "\n",
        "Another important statistic is the sample [histogram](https://en.wikipedia.org/wiki/Histogram). For our LIF neuron it provides an approximate representation of the distribution of membrane potential $V_m(t)$ at time $t=t_k\\in[0,t_{max}]$. For $N$ realizations $V\\left(t_k\\right)$ and $J$ bins is given by:\n",
        "\n",
        "<br>\n",
        "\\begin{equation}\n",
        "N = \\sum_{j=1}^{J} m_j\n",
        "\\end{equation}\n",
        "<br>\n",
        "\n",
        "where $m_j$ is a function that counts the number of samples $V\\left(t_k\\right)$ that fall into bin $j$.\n",
        "\n",
        "The function `plt.hist(data, nbins)` plots an histogram of `data` in `nbins` bins. The argument `label` defines a label for `data` and `plt.legend()` adds all labels to the plot.\n",
        "\n",
        "```python\n",
        "plt.hist(data, bins, label='my data')\n",
        "plt.legend()\n",
        "plt.show()\n",
        "```\n",
        "\n",
        "The parameters `histtype='stepfilled'` and `linewidth=0` may improve histogram appearance (depending on taste). You can read more about [different histtype settings](https://matplotlib.org/gallery/statistics/histogram_histtypes.html).\n",
        "\n",
        "The function `plt.hist` returns the `pdf`, `bins`, and `patches` with the histogram bins, the edges of the bins, and the individual patches used to create the histogram.\n",
        "\n",
        "```python\n",
        "pdf, bins, patches = plt.hist(data, bins)\n",
        "```"
      ]
    },
    {
      "cell_type": "code",
      "execution_count": null,
      "metadata": {
        "cellView": "form",
        "execution": {},
        "id": "EAFpBggGVtTE"
      },
      "outputs": [],
      "source": [
        "# @title Video 2: Nano recap of histograms\n",
        "from ipywidgets import widgets\n",
        "\n",
        "out2 = widgets.Output()\n",
        "with out2:\n",
        "  from IPython.display import IFrame\n",
        "  class BiliVideo(IFrame):\n",
        "      def __init__(self, id, page=1, width=400, height=300, **kwargs):\n",
        "          self.id=id\n",
        "          src = 'https://player.bilibili.com/player.html?bvid={0}&page={1}'.format(id, page)\n",
        "          super(BiliVideo, self).__init__(src, width, height, **kwargs)\n",
        "\n",
        "  video = BiliVideo(id=\"BV1Zv411B7mD\", width=854, height=480, fs=1)\n",
        "  print('Video available at https://www.bilibili.com/video/{0}'.format(video.id))\n",
        "  display(video)\n",
        "\n",
        "out1 = widgets.Output()\n",
        "with out1:\n",
        "  from IPython.display import YouTubeVideo\n",
        "  video = YouTubeVideo(id=\"71f1J98zj80\", width=854, height=480, fs=1, rel=0)\n",
        "  print('Video available at https://youtube.com/watch?v=' + video.id)\n",
        "  display(video)\n",
        "\n",
        "out = widgets.Tab([out1, out2])\n",
        "out.set_title(0, 'Youtube')\n",
        "out.set_title(1, 'Bilibili')\n",
        "\n",
        "display(out)"
      ]
    },
    {
      "cell_type": "markdown",
      "metadata": {
        "execution": {},
        "id": "q-mGPpfMVtTF"
      },
      "source": [
        "## Coding Exercise 1: Plotting a histogram\n",
        "Plot an histogram of $J=50$ bins of $N=10000$ realizations of $V(t)$ for $t=t_{max}/10$ and $t=t_{max}$.\n",
        "\n",
        "We'll make a small correction in the definition of `t_range` to ensure increments of `dt` by using `np.arange` instead of `np.linspace`.\n",
        "\n",
        "    numpy.arange(start, stop, step)\n"
      ]
    },
    {
      "cell_type": "code",
      "execution_count": 2,
      "metadata": {
        "execution": {},
        "id": "n7ZA_CcrVtTG",
        "outputId": "253d6175-c7cc-4c3f-9c55-d5e3e5098244",
        "colab": {
          "base_uri": "https://localhost:8080/",
          "height": 300
        }
      },
      "outputs": [
        {
          "output_type": "stream",
          "name": "stderr",
          "text": [
            "WARNING:matplotlib.legend:No handles with labels found to put in legend.\n"
          ]
        },
        {
          "output_type": "display_data",
          "data": {
            "text/plain": [
              "<Figure size 432x288 with 1 Axes>"
            ],
            "image/png": "[encoded data removed]"
          },
          "metadata": {
            "needs_background": "light"
          }
        }
      ],
      "source": [
        " t_max = 150e-3   # second\n",
        " dt = 1e-3        # second\n",
        " tau = 20e-3      # second\n",
        " el = -60e-3      # milivolt\n",
        " vr = -70e-3      # milivolt\n",
        " vth = -50e-3     # milivolt\n",
        " r = 100e6        # ohm\n",
        " i_mean = 25e-11  # ampere\n",
        "\n",
        "#################################################\n",
        "## TODO for students: fill out code to plot histogram ##\n",
        "# Fill out code and comment or remove the next line\n",
        "    #raise NotImplementedError(\"Student exercise: You need to plot histogram\")\n",
        "#################################################\n",
        "\n",
        "# Set random number generator\n",
        "np.random.seed(2020)\n",
        "\n",
        "# Initialize t_range, step_end, n, v_n, i and nbins\n",
        "t_range = np.arange(0, t_max, dt)\n",
        "step_end = len(t_range)\n",
        "n = 10000\n",
        "v_n = el * np.ones([n, step_end])\n",
        "i = i_mean * (1 + 0.1 * (t_max / dt)**(0.5) * (2 * np.random.random([n, step_end]) - 1))\n",
        "nbins = 32\n",
        "\n",
        "# Loop over time steps\n",
        "for step, t in enumerate(t_range):\n",
        "\n",
        "  # Skip first iteration\n",
        "  if step==0:\n",
        "    continue\n",
        "\n",
        "  # Compute v_n\n",
        "  v_n[:, step] =  v_n[:, step - 1] + (dt / tau) * (el - v_n[:, step - 1] + r * i[:, step])\n",
        "\n",
        "# Initialize the figure\n",
        "plt.figure()\n",
        "plt.ylabel('Frequency')\n",
        "plt.xlabel('$V_m$ (V)')\n",
        "\n",
        "# Plot a histogram at t_max/10 (add labels and parameters histtype='stepfilled' and linewidth=0)\n",
        "index = ((t_max/10)*1000);\n",
        "plt.hist(v_n[:,int(index)],50,histtype='stepfilled',linewidth=0)\n",
        "\n",
        "# Plot a histogram at t_max (add labels and parameters histtype='stepfilled' and linewidth=0)\n",
        "plt.hist(v_n[:,int((index*10)-1)],50,histtype='stepfilled',linewidth=0)\n",
        "# Add legend\n",
        "plt.legend()\n",
        "plt.show()"
      ]
    },
    {
      "cell_type": "markdown",
      "metadata": {
        "execution": {},
        "id": "jlRvK_NKVtTI"
      },
      "source": [
        "[*Click for solution*](https://github.com/NeuromatchAcademy/precourse/tree/main//tutorials/W0D2_PythonWorkshop2/solutions/W0D2_Tutorial1_Solution_04b855a3.py)\n",
        "\n",
        "*Example output:*\n",
        "\n",
        "<img alt='Solution hint' align='left' width=849.0 height=561.0 src=https://raw.githubusercontent.com/NeuromatchAcademy/precourse/main/tutorials/W0D2_PythonWorkshop2/static/W0D2_Tutorial1_Solution_04b855a3_0.png>\n",
        "\n"
      ]
    },
    {
      "cell_type": "markdown",
      "metadata": {
        "execution": {},
        "id": "MIA_zGRxVtTJ"
      },
      "source": [
        "---\n",
        "# Section 2: Dictionaries & introducing spikes\n"
      ]
    },
    {
      "cell_type": "code",
      "execution_count": null,
      "metadata": {
        "cellView": "form",
        "execution": {},
        "id": "L3vH_ZyrVtTJ"
      },
      "outputs": [],
      "source": [
        "# @title Video 3: Dictionaries & introducing spikes\n",
        "from ipywidgets import widgets\n",
        "\n",
        "out2 = widgets.Output()\n",
        "with out2:\n",
        "  from IPython.display import IFrame\n",
        "  class BiliVideo(IFrame):\n",
        "      def __init__(self, id, page=1, width=400, height=300, **kwargs):\n",
        "          self.id=id\n",
        "          src = 'https://player.bilibili.com/player.html?bvid={0}&page={1}'.format(id, page)\n",
        "          super(BiliVideo, self).__init__(src, width, height, **kwargs)\n",
        "\n",
        "  video = BiliVideo(id=\"BV1H54y1q7oS\", width=854, height=480, fs=1)\n",
        "  print('Video available at https://www.bilibili.com/video/{0}'.format(video.id))\n",
        "  display(video)\n",
        "\n",
        "out1 = widgets.Output()\n",
        "with out1:\n",
        "  from IPython.display import YouTubeVideo\n",
        "  video = YouTubeVideo(id=\"ioKkiukDkNg\", width=854, height=480, fs=1, rel=0)\n",
        "  print('Video available at https://youtube.com/watch?v=' + video.id)\n",
        "  display(video)\n",
        "\n",
        "out = widgets.Tab([out1, out2])\n",
        "out.set_title(0, 'Youtube')\n",
        "out.set_title(1, 'Bilibili')\n",
        "\n",
        "display(out)"
      ]
    },
    {
      "cell_type": "markdown",
      "metadata": {
        "execution": {},
        "id": "yupqNz2ZVtTL"
      },
      "source": [
        "A spike takes place whenever $V(t)$ crosses $V_{th}$. In that case, a spike is recorded and $V(t)$ resets to $V_{reset}$ value. This is summarized in the *reset condition*:\n",
        "\n",
        "\\begin{equation}\n",
        "V(t) = V_{reset}\\quad \\text{ if } V(t)\\geq V_{th}\n",
        "\\end{equation}\n",
        "\n",
        "For more information about spikes or action potentials see [here](https://en.wikipedia.org/wiki/Action_potential) and [here](https://www.khanacademy.org/test-prep/mcat/organ-systems/neuron-membrane-potentials/a/neuron-action-potentials-the-creation-of-a-brain-signal).\n",
        "\n",
        "\n",
        "<figure>\n",
        "<img src=\"https://raw.githubusercontent.com/NeuromatchAcademy/precourse/main/tutorials/W0D2_PythonWorkshop2/static/spikes_carton.png\">\n",
        "</figure>"
      ]
    },
    {
      "cell_type": "code",
      "execution_count": null,
      "metadata": {
        "cellView": "form",
        "execution": {},
        "id": "XEnRuY7LVtTM"
      },
      "outputs": [],
      "source": [
        "# @title Video 4: Nano recap of dictionaries\n",
        "from ipywidgets import widgets\n",
        "\n",
        "out2 = widgets.Output()\n",
        "with out2:\n",
        "  from IPython.display import IFrame\n",
        "  class BiliVideo(IFrame):\n",
        "      def __init__(self, id, page=1, width=400, height=300, **kwargs):\n",
        "          self.id=id\n",
        "          src = 'https://player.bilibili.com/player.html?bvid={0}&page={1}'.format(id, page)\n",
        "          super(BiliVideo, self).__init__(src, width, height, **kwargs)\n",
        "\n",
        "  video = BiliVideo(id=\"BV1GC4y1h7hi\", width=854, height=480, fs=1)\n",
        "  print('Video available at https://www.bilibili.com/video/{0}'.format(video.id))\n",
        "  display(video)\n",
        "\n",
        "out1 = widgets.Output()\n",
        "with out1:\n",
        "  from IPython.display import YouTubeVideo\n",
        "  video = YouTubeVideo(id=\"nvpHtzuZggg\", width=854, height=480, fs=1, rel=0)\n",
        "  print('Video available at https://youtube.com/watch?v=' + video.id)\n",
        "  display(video)\n",
        "\n",
        "out = widgets.Tab([out1, out2])\n",
        "out.set_title(0, 'Youtube')\n",
        "out.set_title(1, 'Bilibili')\n",
        "\n",
        "display(out)"
      ]
    },
    {
      "cell_type": "markdown",
      "metadata": {
        "execution": {},
        "id": "lPH8ozXmVtTN"
      },
      "source": [
        "## Coding Exercise 2: Adding spiking to the LIF neuron\n",
        "\n",
        "Insert the reset condition, and collect the spike times of each realization in a dictionary variable `spikes`, with $N=500$.\n",
        "\n",
        "We've used `plt.plot` for plotting lines and also for plotting dots at `(x,y)` coordinates, which is a [scatter plot](https://en.wikipedia.org/wiki/Scatter_plot). From here on, we'll use use `plt.plot` for plotting lines and for scatter plots: `plt.scatter`.\n",
        "\n",
        "```python\n",
        "plt.scatter(x, y, color=\"k\", marker=\".\")\n",
        "```\n",
        "\n",
        "A *raster plot* represents spikes from multiple neurons by plotting dots at spike times from neuron `j` at plot height `j`, i.e. \n",
        "\n",
        "```python\n",
        "plt.scatter(spike_times, j*np.ones_like(spike_times))\n",
        "```\n",
        "\n",
        "<figure>\n",
        "<img src=\"https://raw.githubusercontent.com/NeuromatchAcademy/precourse/main/tutorials/W0D2_PythonWorkshop2/static/spikes_plot.png\">\n",
        "</figure>\n",
        "\n",
        "In this exercise, we use `plt.subplot` for multiple plots in the same figure. These plots can share the same `x` or `y` axis by specifying the parameter `sharex` or `sharey`. Add `plt.tight_layout()` at the end to automatically adjust subplot parameters to fit the figure area better. Please see the example below for a row of two plots sharing axis `y`.\n",
        "\n",
        "```python\n",
        "# initialize the figure\n",
        "plt.figure()\n",
        "\n",
        "# collect axis of 1st figure in ax1\n",
        "ax1 = plt.subplot(1, 2, 1)\n",
        "plt.plot(t_range, my_data_left)\n",
        "plt.ylabel('ylabel')\n",
        "\n",
        "# share axis x with 1st figure\n",
        "plt.subplot(1, 2, 2, sharey=ax1)\n",
        "plt.plot(t_range, my_data_right)\n",
        "\n",
        "# automatically adjust subplot parameters to figure\n",
        "plt.tight_layout()\n",
        "plt.show()\n",
        "```"
      ]
    },
    {
      "cell_type": "code",
      "execution_count": 3,
      "metadata": {
        "execution": {},
        "id": "tsTAxR1KVtTO",
        "outputId": "ba8cea06-15ac-4195-8371-3bf9cf8fcab8",
        "colab": {
          "base_uri": "https://localhost:8080/",
          "height": 297
        }
      },
      "outputs": [
        {
          "output_type": "display_data",
          "data": {
            "text/plain": [
              "<Figure size 432x288 with 3 Axes>"
            ],
            "image/png": "[encoded data removed]"
          },
          "metadata": {
            "needs_background": "light"
          }
        }
      ],
      "source": [
        "# Set random number generator\n",
        "np.random.seed(2020)\n",
        "\n",
        "# Initialize step_end, t_range, n, v_n and i\n",
        "t_range = np.arange(0, t_max, dt)\n",
        "step_end = len(t_range)\n",
        "n = 500\n",
        "v_n = el * np.ones([n, step_end])\n",
        "i = i_mean * (1 + 0.1 * (t_max / dt)**(0.5) * (2 * np.random.random([n, step_end]) - 1))\n",
        "\n",
        "# Initialize spikes and spikes_n\n",
        "spikes = {j: [] for j in range(n)}\n",
        "spikes_n = np.zeros([step_end])\n",
        "\n",
        "#################################################\n",
        "## TODO for students: add spikes to LIF neuron ##\n",
        "# Fill out function and remove\n",
        "      #raise NotImplementedError(\"Student exercise: add spikes to LIF neuron\")\n",
        "#################################################\n",
        "\n",
        "# Loop over time steps\n",
        "for step, t in enumerate(t_range):\n",
        "\n",
        "  # Skip first iteration\n",
        "  if step==0:\n",
        "    continue\n",
        "\n",
        "  # Compute v_n\n",
        "  v_n[:, step] = v_n[:, step - 1] + (dt / tau) * (el - v_n[:, step - 1] + r*i[:, step])\n",
        "\n",
        "  # Loop over simulations\n",
        "  for j in range(n):\n",
        "\n",
        "    # Check if voltage above threshold\n",
        "    if v_n[j, step] >= vth:\n",
        "\n",
        "      # Reset to reset voltage\n",
        "      v_n[j, step] = vr;\n",
        "\n",
        "      # Add this spike time\n",
        "      spikes[j] += [t];\n",
        "\n",
        "      # Add spike count to this step\n",
        "      spikes_n[step] += 1\n",
        "\n",
        "# Collect mean Vm and mean spiking rate\n",
        "v_mean = np.mean(v_n, axis=0)\n",
        "spikes_mean =  spikes_n / n\n",
        "\n",
        "# Initialize the figure\n",
        "plt.figure()\n",
        "\n",
        "# Plot simulations and sample mean\n",
        "ax1 = plt.subplot(3, 1, 1)\n",
        "for j in range(n):\n",
        "  plt.scatter(t_range, v_n[j], color=\"k\", marker=\".\", alpha=0.01)\n",
        "plt.plot(t_range, v_mean, 'C1', alpha=0.8, linewidth=3)\n",
        "plt.ylabel('$V_m$ (V)')\n",
        "\n",
        "# Plot spikes\n",
        "plt.subplot(3, 1, 2, sharex=ax1)\n",
        "# for each neuron j: collect spike times and plot them at height j\n",
        "for j in range(n):\n",
        "  times = np.array(spikes[j])\n",
        "  plt.scatter(times,j*np.ones_like(times),color=\"C0\", marker=\".\", alpha=0.2)\n",
        "\n",
        "plt.ylabel('neuron')\n",
        "\n",
        "# Plot firing rate\n",
        "plt.subplot(3, 1, 3, sharex=ax1)\n",
        "plt.plot(t_range, spikes_mean)\n",
        "plt.xlabel('time (s)')\n",
        "plt.ylabel('rate (Hz)')\n",
        "\n",
        "plt.tight_layout()\n"
      ]
    },
    {
      "cell_type": "markdown",
      "metadata": {
        "execution": {},
        "id": "DPtIFCPzVtTP"
      },
      "source": [
        "[*Click for solution*](https://github.com/NeuromatchAcademy/precourse/tree/main//tutorials/W0D2_PythonWorkshop2/solutions/W0D2_Tutorial1_Solution_9aaee1d8.py)\n",
        "\n",
        "*Example output:*\n",
        "\n",
        "<img alt='Solution hint' align='left' width=775.0 height=575.0 src=https://raw.githubusercontent.com/NeuromatchAcademy/precourse/main/tutorials/W0D2_PythonWorkshop2/static/W0D2_Tutorial1_Solution_9aaee1d8_0.png>\n",
        "\n"
      ]
    },
    {
      "cell_type": "markdown",
      "metadata": {
        "execution": {},
        "id": "yGs6uMhkVtTQ"
      },
      "source": [
        "---\n",
        "# Section 3: Boolean indexes\n"
      ]
    },
    {
      "cell_type": "code",
      "execution_count": null,
      "metadata": {
        "cellView": "form",
        "execution": {},
        "id": "05w_0PRAVtTR"
      },
      "outputs": [],
      "source": [
        "# @title Video 5: Boolean indexes\n",
        "from ipywidgets import widgets\n",
        "\n",
        "out2 = widgets.Output()\n",
        "with out2:\n",
        "  from IPython.display import IFrame\n",
        "  class BiliVideo(IFrame):\n",
        "      def __init__(self, id, page=1, width=400, height=300, **kwargs):\n",
        "          self.id=id\n",
        "          src = 'https://player.bilibili.com/player.html?bvid={0}&page={1}'.format(id, page)\n",
        "          super(BiliVideo, self).__init__(src, width, height, **kwargs)\n",
        "\n",
        "  video = BiliVideo(id=\"BV1W54y1q7eh\", width=854, height=480, fs=1)\n",
        "  print('Video available at https://www.bilibili.com/video/{0}'.format(video.id))\n",
        "  display(video)\n",
        "\n",
        "out1 = widgets.Output()\n",
        "with out1:\n",
        "  from IPython.display import YouTubeVideo\n",
        "  video = YouTubeVideo(id=\"G0C1v848I9Y\", width=854, height=480, fs=1, rel=0)\n",
        "  print('Video available at https://youtube.com/watch?v=' + video.id)\n",
        "  display(video)\n",
        "\n",
        "out = widgets.Tab([out1, out2])\n",
        "out.set_title(0, 'Youtube')\n",
        "out.set_title(1, 'Bilibili')\n",
        "\n",
        "display(out)"
      ]
    },
    {
      "cell_type": "markdown",
      "metadata": {
        "execution": {},
        "id": "UORc3dH0VtTT"
      },
      "source": [
        "Numpy arrays can be indexed by boolean arrays to select a subset of elements (also works with lists of booleans).\n",
        "\n",
        "The boolean array itself can be initiated by a condition, as shown in the example below.\n",
        "\n",
        "```python\n",
        "a = np.array([1, 2, 3])\n",
        "b = a>=2\n",
        "print(b)\n",
        "--> [False  True  True]\n",
        "\n",
        "print(a[b])\n",
        "--> [2 3]\n",
        "\n",
        "print(a[a>=2])\n",
        "--> [2 3]\n",
        "```"
      ]
    },
    {
      "cell_type": "code",
      "execution_count": null,
      "metadata": {
        "cellView": "form",
        "execution": {},
        "id": "RyEjsPeQVtTU"
      },
      "outputs": [],
      "source": [
        "# @title Video 6: Nano recap of Boolean indexes\n",
        "from ipywidgets import widgets\n",
        "\n",
        "out2 = widgets.Output()\n",
        "with out2:\n",
        "  from IPython.display import IFrame\n",
        "  class BiliVideo(IFrame):\n",
        "      def __init__(self, id, page=1, width=400, height=300, **kwargs):\n",
        "          self.id=id\n",
        "          src = 'https://player.bilibili.com/player.html?bvid={0}&page={1}'.format(id, page)\n",
        "          super(BiliVideo, self).__init__(src, width, height, **kwargs)\n",
        "\n",
        "  video = BiliVideo(id=\"BV1W54y1q7gi\", width=854, height=480, fs=1)\n",
        "  print('Video available at https://www.bilibili.com/video/{0}'.format(video.id))\n",
        "  display(video)\n",
        "\n",
        "out1 = widgets.Output()\n",
        "with out1:\n",
        "  from IPython.display import YouTubeVideo\n",
        "  video = YouTubeVideo(id=\"dFPgO5wnyLc\", width=854, height=480, fs=1, rel=0)\n",
        "  print('Video available at https://youtube.com/watch?v=' + video.id)\n",
        "  display(video)\n",
        "\n",
        "out = widgets.Tab([out1, out2])\n",
        "out.set_title(0, 'Youtube')\n",
        "out.set_title(1, 'Bilibili')\n",
        "\n",
        "display(out)"
      ]
    },
    {
      "cell_type": "markdown",
      "metadata": {
        "execution": {},
        "id": "0_eiRGc-VtTU"
      },
      "source": [
        "## Coding Exercise 3: Using Boolean indexing\n",
        "\n",
        "We can avoid looping all neurons in each time step by identifying with boolean arrays the indexes of neurons that spiked in the previous step.\n",
        "\n",
        "In the example below, `v_rest` is a boolean numpy array with `True` in each index of `v_n` with value `vr` at time index `step`:\n",
        "\n",
        "```python\n",
        "v_rest = (v_n[:,step] == vr)\n",
        "print(v_n[v_rest,step])\n",
        "  --> [vr, ..., vr]\n",
        "```\n",
        "\n",
        "The function `np.where` returns indexes of boolean arrays with `True` values.\n",
        "\n",
        "You may use the helper function `plot_all` that implements the figure from the previous exercise."
      ]
    },
    {
      "cell_type": "code",
      "execution_count": 16,
      "metadata": {
        "execution": {},
        "id": "YX1XXrjzVtTV",
        "outputId": "5e81c671-ad9a-492e-af83-c89013b22852",
        "colab": {
          "base_uri": "https://localhost:8080/",
          "height": 165
        }
      },
      "outputs": [
        {
          "output_type": "error",
          "ename": "NameError",
          "evalue": "ignored",
          "traceback": [
            "\u001b[0;31m---------------------------------------------------------------------------\u001b[0m",
            "\u001b[0;31mNameError\u001b[0m                                 Traceback (most recent call last)",
            "\u001b[0;32m<ipython-input-16-72119f6b7809>\u001b[0m in \u001b[0;36m<module>\u001b[0;34m\u001b[0m\n\u001b[0;32m----> 1\u001b[0;31m \u001b[0mhelp\u001b[0m\u001b[0;34m(\u001b[0m\u001b[0mplot_all\u001b[0m\u001b[0;34m)\u001b[0m\u001b[0;34m\u001b[0m\u001b[0;34m\u001b[0m\u001b[0m\n\u001b[0m",
            "\u001b[0;31mNameError\u001b[0m: name 'plot_all' is not defined"
          ]
        }
      ],
      "source": [
        "help(plot_all)"
      ]
    },
    {
      "cell_type": "code",
      "execution_count": 15,
      "metadata": {
        "execution": {},
        "id": "qMfT4tytVtTW",
        "outputId": "a1e84775-4c3b-4fea-f212-af5b44500954",
        "colab": {
          "base_uri": "https://localhost:8080/",
          "height": 200
        }
      },
      "outputs": [
        {
          "output_type": "error",
          "ename": "NameError",
          "evalue": "ignored",
          "traceback": [
            "\u001b[0;31m---------------------------------------------------------------------------\u001b[0m",
            "\u001b[0;31mNameError\u001b[0m                                 Traceback (most recent call last)",
            "\u001b[0;32m<ipython-input-15-4f80129d07c2>\u001b[0m in \u001b[0;36m<module>\u001b[0;34m\u001b[0m\n\u001b[1;32m     45\u001b[0m \u001b[0;31m# Plot multiple realizations of Vm, spikes and mean spike rate\u001b[0m\u001b[0;34m\u001b[0m\u001b[0;34m\u001b[0m\u001b[0;34m\u001b[0m\u001b[0m\n\u001b[1;32m     46\u001b[0m \u001b[0;32mwith\u001b[0m \u001b[0mplt\u001b[0m\u001b[0;34m.\u001b[0m\u001b[0mxkcd\u001b[0m\u001b[0;34m(\u001b[0m\u001b[0;34m)\u001b[0m\u001b[0;34m:\u001b[0m\u001b[0;34m\u001b[0m\u001b[0;34m\u001b[0m\u001b[0m\n\u001b[0;32m---> 47\u001b[0;31m   \u001b[0mplot_all\u001b[0m\u001b[0;34m(\u001b[0m\u001b[0mt_range\u001b[0m\u001b[0;34m,\u001b[0m \u001b[0mv_n\u001b[0m\u001b[0;34m,\u001b[0m \u001b[0mspikes\u001b[0m\u001b[0;34m=\u001b[0m\u001b[0mspikes\u001b[0m\u001b[0;34m,\u001b[0m \u001b[0mspikes_mean\u001b[0m\u001b[0;34m=\u001b[0m\u001b[0mspikes_mean\u001b[0m\u001b[0;34m)\u001b[0m\u001b[0;34m\u001b[0m\u001b[0;34m\u001b[0m\u001b[0m\n\u001b[0m",
            "\u001b[0;31mNameError\u001b[0m: name 'plot_all' is not defined"
          ]
        }
      ],
      "source": [
        "# Set random number generator\n",
        "np.random.seed(2020)\n",
        "\n",
        "# Initialize step_end, t_range, n, v_n and i\n",
        "t_range = np.arange(0, t_max, dt)\n",
        "step_end = len(t_range)\n",
        "n = 500\n",
        "v_n = el * np.ones([n, step_end])\n",
        "i = i_mean * (1 + 0.1 * (t_max / dt)**(0.5) * (2 * np.random.random([n, step_end]) - 1))\n",
        "\n",
        "# Initialize spikes and spikes_n\n",
        "spikes = {j: [] for j in range(n)}\n",
        "spikes_n = np.zeros([step_end])\n",
        "\n",
        "#################################################\n",
        "## TODO for students: use Boolean indexing ##\n",
        "# Fill out function and remove\n",
        "      #raise NotImplementedError(\"Student exercise: using Boolean indexing\")\n",
        "#################################################\n",
        "\n",
        "# Loop over time steps\n",
        "for step, t in enumerate(t_range):\n",
        "\n",
        "  # Skip first iteration\n",
        "  if step == 0:\n",
        "    continue\n",
        "\n",
        "  # Compute v_n\n",
        "  v_n[:, step] = v_n[:, step - 1] + (dt / tau) * (el - v_n[:, step - 1] + r*i[:, step])\n",
        "\n",
        "  # Initialize boolean numpy array `spiked` with v_n > v_thr\n",
        "  spiked = v_n[:,step] >= vth\n",
        "\n",
        "  # Set relevant values of v_n to resting potential using spiked\n",
        "  v_n[spiked,step] = [vr]\n",
        "\n",
        "  # Collect spike times\n",
        "  for j in np.where(spiked)[0]:\n",
        "    spikes[j] += [t]\n",
        "    spikes_n[step] += 1\n",
        "\n",
        "# Collect mean spiking rate\n",
        "spikes_mean = spikes_n / n\n",
        "\n",
        "# Plot multiple realizations of Vm, spikes and mean spike rate\n",
        "with plt.xkcd():\n",
        "  plot_all(t_range, v_n, spikes=spikes, spikes_mean=spikes_mean)"
      ]
    },
    {
      "cell_type": "markdown",
      "metadata": {
        "execution": {},
        "id": "ZE-HBt1RVtTW"
      },
      "source": [
        "[*Click for solution*](https://github.com/NeuromatchAcademy/precourse/tree/main//tutorials/W0D2_PythonWorkshop2/solutions/W0D2_Tutorial1_Solution_5061d76b.py)\n",
        "\n",
        "*Example output:*\n",
        "\n",
        "<img alt='Solution hint' align='left' width=778.0 height=877.0 src=https://raw.githubusercontent.com/NeuromatchAcademy/precourse/main/tutorials/W0D2_PythonWorkshop2/static/W0D2_Tutorial1_Solution_5061d76b_0.png>\n",
        "\n"
      ]
    },
    {
      "cell_type": "markdown",
      "metadata": {
        "execution": {},
        "id": "Z1aaVM1KVtTX"
      },
      "source": [
        "## Coding Exercise 4: Making a binary raster plot\n",
        "\n",
        "A *binary raster plot* represents spike times as `1`s in a binary grid initialized with `0`s. We start with a numpy array `raster` of zeros with shape `(neurons, time steps)`, and represent a spike from neuron `5` at time step `20` as `raster(5,20)=1`, for example.\n",
        "\n",
        "The *binary raster plot* is much more efficient than the previous method by plotting the numpy array `raster` as an image:\n",
        "\n",
        "```python\n",
        "plt.imshow(raster, cmap='Greys', origin='lower', aspect='auto')\n",
        "```\n",
        "\n",
        "**Suggestions**\n",
        "* At each time step:\n",
        "  * Initialize boolean numpy array `spiked` with $V_n(t)\\geq V_{th}$\n",
        "  * Set to `vr` indexes of `v_n` using `spiked`\n",
        "  * Set to `1` indexes of numpy array `raster` using `spiked`"
      ]
    },
    {
      "cell_type": "code",
      "execution_count": null,
      "metadata": {
        "execution": {},
        "id": "Xld3hhwcVtTX"
      },
      "outputs": [],
      "source": [
        "#################################################\n",
        "## TODO for students: make a raster ##\n",
        "# Fill out function and remove\n",
        "raise NotImplementedError(\"Student exercise: make a raster \")\n",
        "#################################################\n",
        "\n",
        "# Set random number generator\n",
        "np.random.seed(2020)\n",
        "\n",
        "# Initialize step_end, t_range, n, v_n and i\n",
        "t_range = np.arange(0, t_max, dt)\n",
        "step_end = len(t_range)\n",
        "n = 500\n",
        "v_n = el * np.ones([n, step_end])\n",
        "i = i_mean * (1 + 0.1 * (t_max / dt)**(0.5) * (2 * np.random.random([n, step_end]) - 1))\n",
        "\n",
        "# Initialize binary numpy array for raster plot\n",
        "raster = np.zeros([n,step_end])\n",
        "\n",
        "# Loop over time steps\n",
        "for step, t in enumerate(t_range):\n",
        "\n",
        "  # Skip first iteration\n",
        "  if step==0:\n",
        "    continue\n",
        "\n",
        "  # Compute v_n\n",
        "  v_n[:, step] = v_n[:, step - 1] + (dt / tau) * (el - v_n[:, step - 1] + r*i[:, step])\n",
        "\n",
        "  # Initialize boolean numpy array `spiked` with v_n > v_thr\n",
        "  spiked = (v_n[:,step] >= vth)\n",
        "\n",
        "  # Set relevant values of v_n to v_reset using spiked\n",
        "  v_n[spiked,step] = vr\n",
        "\n",
        "  # Set relevant elements in raster to 1 using spiked\n",
        "  raster[spiked,step] = ...\n",
        "\n",
        "# Plot multiple realizations of Vm, spikes and mean spike rate\n",
        "plot_all(t_range, v_n, raster)"
      ]
    },
    {
      "cell_type": "markdown",
      "metadata": {
        "execution": {},
        "id": "OqAncpQeVtTY"
      },
      "source": [
        "[*Click for solution*](https://github.com/NeuromatchAcademy/precourse/tree/main//tutorials/W0D2_PythonWorkshop2/solutions/W0D2_Tutorial1_Solution_3973c4c4.py)\n",
        "\n",
        "*Example output:*\n",
        "\n",
        "<img alt='Solution hint' align='left' width=778.0 height=877.0 src=https://raw.githubusercontent.com/NeuromatchAcademy/precourse/main/tutorials/W0D2_PythonWorkshop2/static/W0D2_Tutorial1_Solution_3973c4c4_0.png>\n",
        "\n"
      ]
    },
    {
      "cell_type": "markdown",
      "metadata": {
        "execution": {},
        "id": "zebhvZdmVtTZ"
      },
      "source": [
        "---\n",
        "# Section 4: Refractory period\n",
        "\n"
      ]
    },
    {
      "cell_type": "code",
      "execution_count": null,
      "metadata": {
        "cellView": "form",
        "execution": {},
        "id": "h20USJhqVtTZ"
      },
      "outputs": [],
      "source": [
        "# @title Video 7: Refractory period\n",
        "from ipywidgets import widgets\n",
        "\n",
        "out2 = widgets.Output()\n",
        "with out2:\n",
        "  from IPython.display import IFrame\n",
        "  class BiliVideo(IFrame):\n",
        "      def __init__(self, id, page=1, width=400, height=300, **kwargs):\n",
        "          self.id=id\n",
        "          src = 'https://player.bilibili.com/player.html?bvid={0}&page={1}'.format(id, page)\n",
        "          super(BiliVideo, self).__init__(src, width, height, **kwargs)\n",
        "\n",
        "  video = BiliVideo(id=\"BV1MT4y1E79j\", width=854, height=480, fs=1)\n",
        "  print('Video available at https://www.bilibili.com/video/{0}'.format(video.id))\n",
        "  display(video)\n",
        "\n",
        "out1 = widgets.Output()\n",
        "with out1:\n",
        "  from IPython.display import YouTubeVideo\n",
        "  video = YouTubeVideo(id=\"KVNdbRY5-nY\", width=854, height=480, fs=1, rel=0)\n",
        "  print('Video available at https://youtube.com/watch?v=' + video.id)\n",
        "  display(video)\n",
        "\n",
        "out = widgets.Tab([out1, out2])\n",
        "out.set_title(0, 'Youtube')\n",
        "out.set_title(1, 'Bilibili')\n",
        "\n",
        "display(out)"
      ]
    },
    {
      "cell_type": "markdown",
      "metadata": {
        "execution": {},
        "id": "klwzLkSLVtTa"
      },
      "source": [
        "The absolute refractory period is a time interval in the order of a few milliseconds during which synaptic input will not lead to a 2nd spike, no matter how strong. This effect is due to the biophysics of the neuron membrane channels, and you can read more about absolute and relative refractory period [here](https://content.byui.edu/file/a236934c-3c60-4fe9-90aa-d343b3e3a640/1/module5/readings/refractory_periods.html) and [here](https://en.wikipedia.org/wiki/Refractory_period_(physiology)).\n",
        "\n",
        "<figure>\n",
        "<img src=\"https://raw.githubusercontent.com/NeuromatchAcademy/precourse/main/tutorials/W0D2_PythonWorkshop2/static/refractory_period.png\">\n",
        "</figure>"
      ]
    },
    {
      "cell_type": "code",
      "execution_count": null,
      "metadata": {
        "cellView": "form",
        "execution": {},
        "id": "VbdFDTwbVtTa"
      },
      "outputs": [],
      "source": [
        "# @title Video 8: Nano recap of refractory period\n",
        "from ipywidgets import widgets\n",
        "\n",
        "out2 = widgets.Output()\n",
        "with out2:\n",
        "  from IPython.display import IFrame\n",
        "  class BiliVideo(IFrame):\n",
        "      def __init__(self, id, page=1, width=400, height=300, **kwargs):\n",
        "          self.id=id\n",
        "          src = 'https://player.bilibili.com/player.html?bvid={0}&page={1}'.format(id, page)\n",
        "          super(BiliVideo, self).__init__(src, width, height, **kwargs)\n",
        "\n",
        "  video = BiliVideo(id=\"BV1pA411e7je\", width=854, height=480, fs=1)\n",
        "  print('Video available at https://www.bilibili.com/video/{0}'.format(video.id))\n",
        "  display(video)\n",
        "\n",
        "out1 = widgets.Output()\n",
        "with out1:\n",
        "  from IPython.display import YouTubeVideo\n",
        "  video = YouTubeVideo(id=\"DOoftC0JU2k\", width=854, height=480, fs=1, rel=0)\n",
        "  print('Video available at https://youtube.com/watch?v=' + video.id)\n",
        "  display(video)\n",
        "\n",
        "out = widgets.Tab([out1, out2])\n",
        "out.set_title(0, 'Youtube')\n",
        "out.set_title(1, 'Bilibili')\n",
        "\n",
        "display(out)"
      ]
    },
    {
      "cell_type": "markdown",
      "metadata": {
        "execution": {},
        "id": "Z8_uEf-jVtTb"
      },
      "source": [
        "## Coding Exercise 5: Investigating refactory periods\n",
        "Investigate the effect of (absolute) refractory period $t_{ref}$ on the evolution of output rate $\\lambda(t)$. Add refractory period $t_{ref}=10$ ms after each spike, during which $V(t)$ is clamped to $V_{reset}$.\n",
        "\n",
        "\n"
      ]
    },
    {
      "cell_type": "code",
      "execution_count": null,
      "metadata": {
        "execution": {},
        "id": "gdiIcmbHVtTb"
      },
      "outputs": [],
      "source": [
        "#################################################\n",
        "## TODO for students: add refactory period ##\n",
        "# Fill out function and remove\n",
        "raise NotImplementedError(\"Student exercise: add refactory period \")\n",
        "#################################################\n",
        "\n",
        "# Set random number generator\n",
        "np.random.seed(2020)\n",
        "\n",
        "# Initialize step_end, t_range, n, v_n and i\n",
        "t_range = np.arange(0, t_max, dt)\n",
        "step_end = len(t_range)\n",
        "n = 500\n",
        "v_n = el * np.ones([n, step_end])\n",
        "i = i_mean * (1 + 0.1 * (t_max / dt)**(0.5) * (2 * np.random.random([n, step_end]) - 1))\n",
        "\n",
        "# Initialize binary numpy array for raster plot\n",
        "raster = np.zeros([n,step_end])\n",
        "\n",
        "# Initialize t_ref and last_spike\n",
        "t_ref = 0.01\n",
        "last_spike = -t_ref * np.ones([n])\n",
        "\n",
        "# Loop over time steps\n",
        "for step, t in enumerate(t_range):\n",
        "\n",
        "  # Skip first iteration\n",
        "  if step == 0:\n",
        "    continue\n",
        "\n",
        "  # Compute v_n\n",
        "  v_n[:, step] = v_n[:, step - 1] + (dt / tau) * (el - v_n[:, step - 1] + r*i[:, step])\n",
        "\n",
        "  # Initialize boolean numpy array `spiked` with v_n > v_thr\n",
        "  spiked = (v_n[:,step] >= vth)\n",
        "\n",
        "  # Set relevant values of v_n to v_reset using spiked\n",
        "  v_n[spiked,step] = vr\n",
        "\n",
        "  # Set relevant elements in raster to 1 using spiked\n",
        "  raster[spiked,step] = 1.\n",
        "\n",
        "  # Initialize boolean numpy array clamped using last_spike, t and t_ref\n",
        "  clamped = ...\n",
        "\n",
        "  # Reset clamped neurons to vr using clamped\n",
        "  v_n[clamped,step] = ...\n",
        "\n",
        "  # Update numpy array last_spike with time t for spiking neurons\n",
        "  last_spike[spiked] = ...\n",
        "\n",
        "# Plot multiple realizations of Vm, spikes and mean spike rate\n",
        "plot_all(t_range, v_n, raster)"
      ]
    },
    {
      "cell_type": "markdown",
      "metadata": {
        "execution": {},
        "id": "2EaMyxqIVtTc"
      },
      "source": [
        "[*Click for solution*](https://github.com/NeuromatchAcademy/precourse/tree/main//tutorials/W0D2_PythonWorkshop2/solutions/W0D2_Tutorial1_Solution_130ba4a4.py)\n",
        "\n",
        "*Example output:*\n",
        "\n",
        "<img alt='Solution hint' align='left' width=778.0 height=877.0 src=https://raw.githubusercontent.com/NeuromatchAcademy/precourse/main/tutorials/W0D2_PythonWorkshop2/static/W0D2_Tutorial1_Solution_130ba4a4_0.png>\n",
        "\n"
      ]
    },
    {
      "cell_type": "markdown",
      "metadata": {
        "execution": {},
        "id": "Xcn9pWeLVtTd"
      },
      "source": [
        "## Interactive Demo 1: Random refractory period\n",
        "In the following interactive demo, we will investigate the effect of random refractory periods. We will use random refactory periods $t_{ref}$ with \n",
        "$t_{ref} = \\mu + \\sigma\\,\\mathcal{N}$, where $\\mathcal{N}$ is the [normal distribution](https://en.wikipedia.org/wiki/Normal_distribution), $\\mu=0.01$ and $\\sigma=0.007$.\n",
        "\n",
        "Refractory period samples `t_ref` of size `n` is initialized with `np.random.normal`. We clip negative values to `0` with boolean indexes. (Why?) You can double click the cell to see the hidden code.\n",
        "\n",
        "You can play with the parameters mu and sigma and visualize the resulting simulation. \n",
        "What is the effect of different $\\sigma$ values?\n"
      ]
    },
    {
      "cell_type": "code",
      "execution_count": null,
      "metadata": {
        "cellView": "form",
        "execution": {},
        "id": "p9o9d23tVtTd"
      },
      "outputs": [],
      "source": [
        "# @markdown Execute this cell to enable the demo\n",
        "\n",
        "def random_ref_period(mu, sigma):\n",
        "  # set random number generator\n",
        "  np.random.seed(2020)\n",
        "\n",
        "  # initialize step_end, t_range, n, v_n, syn and raster\n",
        "  t_range = np.arange(0, t_max, dt)\n",
        "  step_end = len(t_range)\n",
        "  n = 500\n",
        "  v_n = el * np.ones([n,step_end])\n",
        "  syn = i_mean * (1 + 0.1*(t_max/dt)**(0.5)*(2*np.random.random([n,step_end])-1))\n",
        "  raster = np.zeros([n,step_end])\n",
        "\n",
        "  # initialize t_ref and last_spike\n",
        "  t_ref = mu + sigma*np.random.normal(size=n)\n",
        "  t_ref[t_ref<0] = 0\n",
        "  last_spike = -t_ref * np.ones([n])\n",
        "\n",
        "  # loop time steps\n",
        "  for step, t in enumerate(t_range):\n",
        "    if step==0:\n",
        "      continue\n",
        "\n",
        "    v_n[:,step] = v_n[:,step-1] + dt/tau * (el - v_n[:,step-1] + r*syn[:,step])\n",
        "\n",
        "    # boolean array spiked indexes neurons with v>=vth\n",
        "    spiked = (v_n[:,step] >= vth)\n",
        "    v_n[spiked,step] = vr\n",
        "    raster[spiked,step] = 1.\n",
        "\n",
        "    # boolean array clamped indexes refractory neurons\n",
        "    clamped = (last_spike + t_ref > t)\n",
        "    v_n[clamped,step] = vr\n",
        "    last_spike[spiked] = t\n",
        "\n",
        "  # plot multiple realizations of Vm, spikes and mean spike rate\n",
        "  plot_all(t_range, v_n, raster)\n",
        "\n",
        "  # plot histogram of t_ref\n",
        "  plt.figure(figsize=(8,4))\n",
        "  plt.hist(t_ref, bins=32, histtype='stepfilled', linewidth=0, color='C1')\n",
        "  plt.xlabel(r'$t_{ref}$ (s)')\n",
        "  plt.ylabel('count')\n",
        "  plt.tight_layout()\n",
        "\n",
        "_ = widgets.interact(random_ref_period, mu = (0.01, 0.05, 0.01), \\\n",
        "                              sigma = (0.001, 0.02, 0.001))"
      ]
    },
    {
      "cell_type": "markdown",
      "metadata": {
        "execution": {},
        "id": "mYPNHHcrVtTe"
      },
      "source": [
        "---\n",
        "# Section 5: Using functions\n",
        "Running key parts of your code inside functions improves your coding narrative by making it clearer and more flexible to future changes."
      ]
    },
    {
      "cell_type": "code",
      "execution_count": null,
      "metadata": {
        "cellView": "form",
        "execution": {},
        "id": "sMW0gy7fVtTe"
      },
      "outputs": [],
      "source": [
        "# @title Video 9: Functions\n",
        "from ipywidgets import widgets\n",
        "\n",
        "out2 = widgets.Output()\n",
        "with out2:\n",
        "  from IPython.display import IFrame\n",
        "  class BiliVideo(IFrame):\n",
        "      def __init__(self, id, page=1, width=400, height=300, **kwargs):\n",
        "          self.id=id\n",
        "          src = 'https://player.bilibili.com/player.html?bvid={0}&page={1}'.format(id, page)\n",
        "          super(BiliVideo, self).__init__(src, width, height, **kwargs)\n",
        "\n",
        "  video = BiliVideo(id=\"BV1sa4y1a7pq\", width=854, height=480, fs=1)\n",
        "  print('Video available at https://www.bilibili.com/video/{0}'.format(video.id))\n",
        "  display(video)\n",
        "\n",
        "out1 = widgets.Output()\n",
        "with out1:\n",
        "  from IPython.display import YouTubeVideo\n",
        "  video = YouTubeVideo(id=\"mkf8riqCjS4\", width=854, height=480, fs=1, rel=0)\n",
        "  print('Video available at https://youtube.com/watch?v=' + video.id)\n",
        "  display(video)\n",
        "\n",
        "out = widgets.Tab([out1, out2])\n",
        "out.set_title(0, 'Youtube')\n",
        "out.set_title(1, 'Bilibili')\n",
        "\n",
        "display(out)"
      ]
    },
    {
      "cell_type": "code",
      "execution_count": null,
      "metadata": {
        "cellView": "form",
        "execution": {},
        "id": "u7P6zTDkVtTf"
      },
      "outputs": [],
      "source": [
        "# @title Video 10: Nano recap of functions\n",
        "from ipywidgets import widgets\n",
        "\n",
        "out2 = widgets.Output()\n",
        "with out2:\n",
        "  from IPython.display import IFrame\n",
        "  class BiliVideo(IFrame):\n",
        "      def __init__(self, id, page=1, width=400, height=300, **kwargs):\n",
        "          self.id=id\n",
        "          src = 'https://player.bilibili.com/player.html?bvid={0}&page={1}'.format(id, page)\n",
        "          super(BiliVideo, self).__init__(src, width, height, **kwargs)\n",
        "\n",
        "  video = BiliVideo(id=\"BV1pz411v74H\", width=854, height=480, fs=1)\n",
        "  print('Video available at https://www.bilibili.com/video/{0}'.format(video.id))\n",
        "  display(video)\n",
        "\n",
        "out1 = widgets.Output()\n",
        "with out1:\n",
        "  from IPython.display import YouTubeVideo\n",
        "  video = YouTubeVideo(id=\"0An_NnVWY_Q\", width=854, height=480, fs=1, rel=0)\n",
        "  print('Video available at https://youtube.com/watch?v=' + video.id)\n",
        "  display(video)\n",
        "\n",
        "out = widgets.Tab([out1, out2])\n",
        "out.set_title(0, 'Youtube')\n",
        "out.set_title(1, 'Bilibili')\n",
        "\n",
        "display(out)"
      ]
    },
    {
      "cell_type": "markdown",
      "metadata": {
        "execution": {},
        "id": "VjfnDv9MVtTf"
      },
      "source": [
        "## Coding Exercise 6: Rewriting code with functions\n",
        "We will now re-organize parts of the code from the previous exercise with functions. You need to complete the function `spike_clamp()` to update $V(t)$ and deal with spiking and refractoriness"
      ]
    },
    {
      "cell_type": "code",
      "execution_count": null,
      "metadata": {
        "execution": {},
        "id": "gNhvu69qVtTg"
      },
      "outputs": [],
      "source": [
        "def ode_step(v, i, dt):\n",
        "  \"\"\"\n",
        "  Evolves membrane potential by one step of discrete time integration\n",
        "\n",
        "  Args:\n",
        "    v (numpy array of floats)\n",
        "      membrane potential at previous time step of shape (neurons)\n",
        "\n",
        "    v (numpy array of floats)\n",
        "      synaptic input at current time step of shape (neurons)\n",
        "\n",
        "    dt (float)\n",
        "      time step increment\n",
        "\n",
        "  Returns:\n",
        "    v (numpy array of floats)\n",
        "      membrane potential at current time step of shape (neurons)\n",
        "  \"\"\"\n",
        "  v = v + dt/tau * (el - v + r*i)\n",
        "\n",
        "  return v\n",
        "\n",
        "def spike_clamp(v, delta_spike):\n",
        "  \"\"\"\n",
        "  Resets membrane potential of neurons if v>= vth\n",
        "  and clamps to vr if interval of time since last spike < t_ref\n",
        "\n",
        "  Args:\n",
        "    v (numpy array of floats)\n",
        "      membrane potential of shape (neurons)\n",
        "\n",
        "    delta_spike (numpy array of floats)\n",
        "      interval of time since last spike of shape (neurons)\n",
        "\n",
        "  Returns:\n",
        "    v (numpy array of floats)\n",
        "      membrane potential of shape (neurons)\n",
        "    spiked (numpy array of floats)\n",
        "      boolean array of neurons that spiked  of shape (neurons)\n",
        "  \"\"\"\n",
        "\n",
        "  ####################################################\n",
        "  ## TODO for students: complete spike_clamp\n",
        "  # Fill out function and remove\n",
        "  raise NotImplementedError(\"Student exercise: complete spike_clamp\")\n",
        "  ####################################################\n",
        "  # Boolean array spiked indexes neurons with v>=vth\n",
        "  spiked = ...\n",
        "  v[spiked] = ...\n",
        "\n",
        "  # Boolean array clamped indexes refractory neurons\n",
        "  clamped = ...\n",
        "  v[clamped] = ...\n",
        "\n",
        "  return v, spiked\n",
        "\n",
        "\n",
        "# Set random number generator\n",
        "np.random.seed(2020)\n",
        "\n",
        "# Initialize step_end, t_range, n, v_n and i\n",
        "t_range = np.arange(0, t_max, dt)\n",
        "step_end = len(t_range)\n",
        "n = 500\n",
        "v_n = el * np.ones([n, step_end])\n",
        "i = i_mean * (1 + 0.1 * (t_max / dt)**(0.5) * (2 * np.random.random([n, step_end]) - 1))\n",
        "\n",
        "# Initialize binary numpy array for raster plot\n",
        "raster = np.zeros([n,step_end])\n",
        "\n",
        "# Initialize t_ref and last_spike\n",
        "mu = 0.01\n",
        "sigma = 0.007\n",
        "t_ref = mu + sigma*np.random.normal(size=n)\n",
        "t_ref[t_ref<0] = 0\n",
        "last_spike = -t_ref * np.ones([n])\n",
        "\n",
        "# Loop over time steps\n",
        "for step, t in enumerate(t_range):\n",
        "\n",
        "  # Skip first iteration\n",
        "  if step==0:\n",
        "    continue\n",
        "\n",
        "  # Compute v_n\n",
        "  v_n[:,step] = ode_step(v_n[:,step-1], i[:,step], dt)\n",
        "\n",
        "  # Reset membrane potential and clamp\n",
        "  v_n[:,step], spiked = spike_clamp(v_n[:,step], t - last_spike)\n",
        "\n",
        "  # Update raster and last_spike\n",
        "  raster[spiked,step] = 1.\n",
        "  last_spike[spiked] = t\n",
        "\n",
        "# Plot multiple realizations of Vm, spikes and mean spike rate\n",
        "plot_all(t_range, v_n, raster)"
      ]
    },
    {
      "cell_type": "code",
      "execution_count": null,
      "metadata": {
        "execution": {},
        "id": "rfW1WhGPVtTh"
      },
      "outputs": [],
      "source": [
        "def ode_step(v, i, dt):\n",
        "  \"\"\"\n",
        "  Evolves membrane potential by one step of discrete time integration\n",
        "\n",
        "  Args:\n",
        "    v (numpy array of floats)\n",
        "      membrane potential at previous time step of shape (neurons)\n",
        "\n",
        "    v (numpy array of floats)\n",
        "      synaptic input at current time step of shape (neurons)\n",
        "\n",
        "    dt (float)\n",
        "      time step increment\n",
        "\n",
        "  Returns:\n",
        "    v (numpy array of floats)\n",
        "      membrane potential at current time step of shape (neurons)\n",
        "  \"\"\"\n",
        "  v = v + dt/tau * (el - v + r*i)\n",
        "\n",
        "  return v\n",
        "\n",
        "# to_remove solution\n",
        "def spike_clamp(v, delta_spike):\n",
        "  \"\"\"\n",
        "  Resets membrane potential of neurons if v>= vth\n",
        "  and clamps to vr if interval of time since last spike < t_ref\n",
        "\n",
        "  Args:\n",
        "    v (numpy array of floats)\n",
        "      membrane potential of shape (neurons)\n",
        "\n",
        "    delta_spike (numpy array of floats)\n",
        "      interval of time since last spike of shape (neurons)\n",
        "\n",
        "  Returns:\n",
        "    v (numpy array of floats)\n",
        "      membrane potential of shape (neurons)\n",
        "    spiked (numpy array of floats)\n",
        "      boolean array of neurons that spiked  of shape (neurons)\n",
        "  \"\"\"\n",
        "\n",
        "  # Boolean array spiked indexes neurons with v>=vth\n",
        "  spiked = (v >= vth)\n",
        "  v[spiked] = vr\n",
        "\n",
        "  # Boolean array clamped indexes refractory neurons\n",
        "  clamped = (t_ref > delta_spike)\n",
        "  v[clamped] = vr\n",
        "\n",
        "  return v, spiked\n",
        "\n",
        "\n",
        "# Set random number generator\n",
        "np.random.seed(2020)\n",
        "\n",
        "# Initialize step_end, t_range, n, v_n and i\n",
        "t_range = np.arange(0, t_max, dt)\n",
        "step_end = len(t_range)\n",
        "n = 500\n",
        "v_n = el * np.ones([n, step_end])\n",
        "i = i_mean * (1 + 0.1 * (t_max / dt)**(0.5) * (2 * np.random.random([n, step_end]) - 1))\n",
        "\n",
        "# Initialize binary numpy array for raster plot\n",
        "raster = np.zeros([n,step_end])\n",
        "\n",
        "# Initialize t_ref and last_spike\n",
        "mu = 0.01\n",
        "sigma = 0.007\n",
        "t_ref = mu + sigma*np.random.normal(size=n)\n",
        "t_ref[t_ref<0] = 0\n",
        "last_spike = -t_ref * np.ones([n])\n",
        "\n",
        "# Loop over time steps\n",
        "for step, t in enumerate(t_range):\n",
        "\n",
        "  # Skip first iteration\n",
        "  if step==0:\n",
        "    continue\n",
        "\n",
        "  # Compute v_n\n",
        "  v_n[:,step] = ode_step(v_n[:,step-1], i[:,step], dt)\n",
        "\n",
        "  # Reset membrane potential and clamp\n",
        "  v_n[:,step], spiked = spike_clamp(v_n[:,step], t - last_spike)\n",
        "\n",
        "  # Update raster and last_spike\n",
        "  raster[spiked,step] = 1.\n",
        "  last_spike[spiked] = t\n",
        "\n",
        "# Plot multiple realizations of Vm, spikes and mean spike rate\n",
        "with plt.xkcd():\n",
        "  plot_all(t_range, v_n, raster)"
      ]
    },
    {
      "cell_type": "markdown",
      "metadata": {
        "execution": {},
        "id": "H_1UPs4zVtTi"
      },
      "source": [
        "---\n",
        "# Section 6: Using classes\n"
      ]
    },
    {
      "cell_type": "code",
      "execution_count": null,
      "metadata": {
        "cellView": "form",
        "execution": {},
        "id": "amX2hWR4VtTi"
      },
      "outputs": [],
      "source": [
        "# @title Video 11: Classes\n",
        "from ipywidgets import widgets\n",
        "\n",
        "out2 = widgets.Output()\n",
        "with out2:\n",
        "  from IPython.display import IFrame\n",
        "  class BiliVideo(IFrame):\n",
        "      def __init__(self, id, page=1, width=400, height=300, **kwargs):\n",
        "          self.id=id\n",
        "          src = 'https://player.bilibili.com/player.html?bvid={0}&page={1}'.format(id, page)\n",
        "          super(BiliVideo, self).__init__(src, width, height, **kwargs)\n",
        "\n",
        "  video = BiliVideo(id=\"BV1hz411v7ne\", width=854, height=480, fs=1)\n",
        "  print('Video available at https://www.bilibili.com/video/{0}'.format(video.id))\n",
        "  display(video)\n",
        "\n",
        "out1 = widgets.Output()\n",
        "with out1:\n",
        "  from IPython.display import YouTubeVideo\n",
        "  video = YouTubeVideo(id=\"dGRESMoNPh0\", width=854, height=480, fs=1, rel=0)\n",
        "  print('Video available at https://youtube.com/watch?v=' + video.id)\n",
        "  display(video)\n",
        "\n",
        "out = widgets.Tab([out1, out2])\n",
        "out.set_title(0, 'Youtube')\n",
        "out.set_title(1, 'Bilibili')\n",
        "\n",
        "display(out)"
      ]
    },
    {
      "cell_type": "markdown",
      "metadata": {
        "execution": {},
        "id": "44N99zvzVtTj"
      },
      "source": [
        "Using classes helps with code reuse and reliability. Well-designed classes are like black boxes in that they receive inputs and provide expected outputs. The details of how the class processes inputs and produces outputs are unimportant.\n",
        "\n",
        "See additional details here: [A Beginner's Python Tutorial/Classes](https://en.wikibooks.org/wiki/A_Beginner%27s_Python_Tutorial/Classes)\n",
        "\n",
        "*Attributes* are variables internal to the class, and *methods* are functions internal to the class."
      ]
    },
    {
      "cell_type": "code",
      "execution_count": null,
      "metadata": {
        "cellView": "form",
        "execution": {},
        "id": "cP7tlUqnVtTk"
      },
      "outputs": [],
      "source": [
        "# @title Video 12: Nano recap of classes\n",
        "from ipywidgets import widgets\n",
        "\n",
        "out2 = widgets.Output()\n",
        "with out2:\n",
        "  from IPython.display import IFrame\n",
        "  class BiliVideo(IFrame):\n",
        "      def __init__(self, id, page=1, width=400, height=300, **kwargs):\n",
        "          self.id=id\n",
        "          src = 'https://player.bilibili.com/player.html?bvid={0}&page={1}'.format(id, page)\n",
        "          super(BiliVideo, self).__init__(src, width, height, **kwargs)\n",
        "\n",
        "  video = BiliVideo(id=\"BV12V41167yu\", width=854, height=480, fs=1)\n",
        "  print('Video available at https://www.bilibili.com/video/{0}'.format(video.id))\n",
        "  display(video)\n",
        "\n",
        "out1 = widgets.Output()\n",
        "with out1:\n",
        "  from IPython.display import YouTubeVideo\n",
        "  video = YouTubeVideo(id=\"4YNpMpVW2qs\", width=854, height=480, fs=1, rel=0)\n",
        "  print('Video available at https://youtube.com/watch?v=' + video.id)\n",
        "  display(video)\n",
        "\n",
        "out = widgets.Tab([out1, out2])\n",
        "out.set_title(0, 'Youtube')\n",
        "out.set_title(1, 'Bilibili')\n",
        "\n",
        "display(out)"
      ]
    },
    {
      "cell_type": "markdown",
      "metadata": {
        "execution": {},
        "id": "f-dQuPyfVtTk"
      },
      "source": [
        "## Coding Exercise 7: Making a LIF class\n",
        "In this exercise we'll practice with Python classes by implementing `LIFNeurons`, a class that evolves and keeps state of multiple realizations of LIF neurons.\n",
        "\n",
        "Several attributes are used to keep state of our neurons:\n",
        "\n",
        "```python\n",
        "self.v             current membrane potential\n",
        "self.spiked        neurons that spiked\n",
        "self.last_spike    last spike time of each neuron\n",
        "self.t             running time of the simulation\n",
        "self.steps         simulation step\n",
        "```\n",
        "\n",
        "There is a single method:\n",
        "\n",
        "```python\n",
        "self.ode_step()    performs single step discrete time integration\n",
        "                   for provided synaptic current and dt\n",
        "```\n",
        "\n",
        "Complete the spike and clamp part of method `self.ode_step` (should be similar to function `spike_and_clamp` seen before)."
      ]
    },
    {
      "cell_type": "code",
      "execution_count": null,
      "metadata": {
        "execution": {},
        "id": "Fo3qiyABVtTl"
      },
      "outputs": [],
      "source": [
        "# Simulation class\n",
        "class LIFNeurons:\n",
        "  \"\"\"\n",
        "  Keeps track of membrane potential for multiple realizations of LIF neuron,\n",
        "  and performs single step discrete time integration.\n",
        "  \"\"\"\n",
        "  def __init__(self, n, t_ref_mu=0.01, t_ref_sigma=0.002,\n",
        "               tau=20e-3, el=-60e-3, vr=-70e-3, vth=-50e-3, r=100e6):\n",
        "\n",
        "    # Neuron count\n",
        "    self.n = n\n",
        "\n",
        "    # Neuron parameters\n",
        "    self.tau = tau        # second\n",
        "    self.el = el          # milivolt\n",
        "    self.vr = vr          # milivolt\n",
        "    self.vth = vth        # milivolt\n",
        "    self.r = r            # ohm\n",
        "\n",
        "    # Initializes refractory period distribution\n",
        "    self.t_ref_mu = t_ref_mu\n",
        "    self.t_ref_sigma = t_ref_sigma\n",
        "    self.t_ref = self.t_ref_mu + self.t_ref_sigma * np.random.normal(size=self.n)\n",
        "    self.t_ref[self.t_ref<0] = 0\n",
        "\n",
        "    # State variables\n",
        "    self.v = self.el * np.ones(self.n)\n",
        "    self.spiked = self.v >= self.vth\n",
        "    self.last_spike = -self.t_ref * np.ones([self.n])\n",
        "    self.t = 0.\n",
        "    self.steps = 0\n",
        "\n",
        "\n",
        "  def ode_step(self, dt, i):\n",
        "\n",
        "    # Update running time and steps\n",
        "    self.t += dt\n",
        "    self.steps += 1\n",
        "\n",
        "    # One step of discrete time integration of dt\n",
        "    self.v = self.v + dt / self.tau * (self.el - self.v + self.r * i)\n",
        "\n",
        "    ####################################################\n",
        "    ## TODO for students: complete the `ode_step` method\n",
        "    # Fill out function and remove\n",
        "    raise NotImplementedError(\"Student exercise: complete the ode_step method\")\n",
        "    ####################################################\n",
        "\n",
        "    # Spike and clamp\n",
        "    self.spiked = ...\n",
        "    self.v[self.spiked] = ...\n",
        "    self.last_spike[self.spiked] = ...\n",
        "    clamped = ...\n",
        "    self.v[clamped] = ...\n",
        "\n",
        "    self.last_spike[self.spiked] = ...\n",
        "\n",
        "# Set random number generator\n",
        "np.random.seed(2020)\n",
        "\n",
        "# Initialize step_end, t_range, n, v_n and i\n",
        "t_range = np.arange(0, t_max, dt)\n",
        "step_end = len(t_range)\n",
        "n = 500\n",
        "v_n = el * np.ones([n, step_end])\n",
        "i = i_mean * (1 + 0.1 * (t_max / dt)**(0.5) * (2 * np.random.random([n, step_end]) - 1))\n",
        "\n",
        "# Initialize binary numpy array for raster plot\n",
        "raster = np.zeros([n,step_end])\n",
        "\n",
        "# Initialize neurons\n",
        "neurons = LIFNeurons(n)\n",
        "\n",
        "# Loop over time steps\n",
        "for step, t in enumerate(t_range):\n",
        "\n",
        "  # Call ode_step method\n",
        "  neurons.ode_step(dt, i[:,step])\n",
        "\n",
        "  # Log v_n and spike history\n",
        "  v_n[:,step] = neurons.v\n",
        "  raster[neurons.spiked, step] = 1.\n",
        "\n",
        "# Report running time and steps\n",
        "print(f'Ran for {neurons.t:.3}s in {neurons.steps} steps.')\n",
        "\n",
        "# Plot multiple realizations of Vm, spikes and mean spike rate\n",
        "plot_all(t_range, v_n, raster)"
      ]
    },
    {
      "cell_type": "markdown",
      "metadata": {
        "execution": {},
        "id": "HPsp4CNMVtTm"
      },
      "source": [
        "[*Click for solution*](https://github.com/NeuromatchAcademy/precourse/tree/main//tutorials/W0D2_PythonWorkshop2/solutions/W0D2_Tutorial1_Solution_a22fdac7.py)\n",
        "\n",
        "*Example output:*\n",
        "\n",
        "<img alt='Solution hint' align='left' width=778.0 height=878.0 src=https://raw.githubusercontent.com/NeuromatchAcademy/precourse/main/tutorials/W0D2_PythonWorkshop2/static/W0D2_Tutorial1_Solution_a22fdac7_1.png>\n",
        "\n"
      ]
    },
    {
      "cell_type": "markdown",
      "metadata": {
        "execution": {},
        "id": "T8uEhSXFVtTn"
      },
      "source": [
        "---\n",
        "# Summary\n"
      ]
    },
    {
      "cell_type": "code",
      "execution_count": null,
      "metadata": {
        "cellView": "form",
        "execution": {},
        "id": "Tld6GUinVtTn"
      },
      "outputs": [],
      "source": [
        "# @title Video 12: Last concepts & recap\n",
        "from ipywidgets import widgets\n",
        "\n",
        "out2 = widgets.Output()\n",
        "with out2:\n",
        "  from IPython.display import IFrame\n",
        "  class BiliVideo(IFrame):\n",
        "      def __init__(self, id, page=1, width=400, height=300, **kwargs):\n",
        "          self.id=id\n",
        "          src = 'https://player.bilibili.com/player.html?bvid={0}&page={1}'.format(id, page)\n",
        "          super(BiliVideo, self).__init__(src, width, height, **kwargs)\n",
        "\n",
        "  video = BiliVideo(id=\"BV1MC4y1h7eA\", width=854, height=480, fs=1)\n",
        "  print('Video available at https://www.bilibili.com/video/{0}'.format(video.id))\n",
        "  display(video)\n",
        "\n",
        "out1 = widgets.Output()\n",
        "with out1:\n",
        "  from IPython.display import YouTubeVideo\n",
        "  video = YouTubeVideo(id=\"h4mSJBPocPo\", width=854, height=480, fs=1, rel=0)\n",
        "  print('Video available at https://youtube.com/watch?v=' + video.id)\n",
        "  display(video)\n",
        "\n",
        "out = widgets.Tab([out1, out2])\n",
        "out.set_title(0, 'Youtube')\n",
        "out.set_title(1, 'Bilibili')\n",
        "\n",
        "display(out)"
      ]
    }
  ],
  "metadata": {
    "colab": {
      "collapsed_sections": [],
      "name": "W0D2_Tutorial1",
      "provenance": [],
      "toc_visible": true,
      "include_colab_link": true
    },
    "kernel": {
      "display_name": "Python 3",
      "language": "python",
      "name": "python3"
    },
    "kernelspec": {
      "display_name": "Python 3",
      "language": "python",
      "name": "python3"
    },
    "language_info": {
      "codemirror_mode": {
        "name": "ipython",
        "version": 3
      },
      "file_extension": ".py",
      "mimetype": "text/x-python",
      "name": "python",
      "nbconvert_exporter": "python",
      "pygments_lexer": "ipython3",
      "version": "3.7.13"
    }
  },
  "nbformat": 4,
  "nbformat_minor": 0
}